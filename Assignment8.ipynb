{
 "cells": [
  {
   "cell_type": "markdown",
   "id": "84bee246-1cf4-45c7-b103-d56b5216e6fe",
   "metadata": {},
   "source": [
    "1. Is the Python Standard Library included with PyInputPlus?"
   ]
  },
  {
   "cell_type": "markdown",
   "id": "69903605-6cbe-425a-8cda-34f7387ed382",
   "metadata": {},
   "source": [
    "Ans.PyInputPlus is a third-party module and doesn't come with the Python Standard Library."
   ]
  },
  {
   "cell_type": "code",
   "execution_count": 1,
   "id": "649d9909-9877-4d41-b3a4-40c407592f27",
   "metadata": {},
   "outputs": [
    {
     "name": "stdout",
     "output_type": "stream",
     "text": [
      "Collecting pyinputplus\n",
      "  Downloading PyInputPlus-0.2.12.tar.gz (20 kB)\n",
      "  Installing build dependencies ... \u001b[?25ldone\n",
      "\u001b[?25h  Getting requirements to build wheel ... \u001b[?25ldone\n",
      "\u001b[?25h  Preparing metadata (pyproject.toml) ... \u001b[?25ldone\n",
      "\u001b[?25hCollecting stdiomask>=0.0.3\n",
      "  Downloading stdiomask-0.0.6.tar.gz (3.6 kB)\n",
      "  Installing build dependencies ... \u001b[?25ldone\n",
      "\u001b[?25h  Getting requirements to build wheel ... \u001b[?25ldone\n",
      "\u001b[?25h  Preparing metadata (pyproject.toml) ... \u001b[?25ldone\n",
      "\u001b[?25hCollecting pysimplevalidate>=0.2.7\n",
      "  Downloading PySimpleValidate-0.2.12.tar.gz (22 kB)\n",
      "  Installing build dependencies ... \u001b[?25ldone\n",
      "\u001b[?25h  Getting requirements to build wheel ... \u001b[?25ldone\n",
      "\u001b[?25h  Preparing metadata (pyproject.toml) ... \u001b[?25ldone\n",
      "\u001b[?25hBuilding wheels for collected packages: pyinputplus, pysimplevalidate, stdiomask\n",
      "  Building wheel for pyinputplus (pyproject.toml) ... \u001b[?25ldone\n",
      "\u001b[?25h  Created wheel for pyinputplus: filename=PyInputPlus-0.2.12-py3-none-any.whl size=11297 sha256=4f22cdb12f518ecf379ea0587bc2df69f9b06c072b7a96c82678d24a20f34ed5\n",
      "  Stored in directory: /home/jovyan/.cache/pip/wheels/2d/72/d9/818396cecb072b3d697a47b007d9bbad74859a83a635e47d4d\n",
      "  Building wheel for pysimplevalidate (pyproject.toml) ... \u001b[?25ldone\n",
      "\u001b[?25h  Created wheel for pysimplevalidate: filename=PySimpleValidate-0.2.12-py3-none-any.whl size=16176 sha256=87883057e3acd9372f77222eaf198f31eadae7e7d62818d572928cb0ac15fae0\n",
      "  Stored in directory: /home/jovyan/.cache/pip/wheels/05/ad/4d/7289d8b9a519e88167728584876a1a1073a3f71666d875aba7\n",
      "  Building wheel for stdiomask (pyproject.toml) ... \u001b[?25ldone\n",
      "\u001b[?25h  Created wheel for stdiomask: filename=stdiomask-0.0.6-py3-none-any.whl size=3306 sha256=37d0d38ee3796e5b1cf4ba90f23ebc8c4cbd6b397ef5ad7b5c6462d9705b2d31\n",
      "  Stored in directory: /home/jovyan/.cache/pip/wheels/41/ee/55/6e4b70f6248b280caae3d938bc543206bb1a75988b739f1238\n",
      "Successfully built pyinputplus pysimplevalidate stdiomask\n",
      "Installing collected packages: stdiomask, pysimplevalidate, pyinputplus\n",
      "Successfully installed pyinputplus-0.2.12 pysimplevalidate-0.2.12 stdiomask-0.0.6\n"
     ]
    }
   ],
   "source": [
    "\n",
    "!pip install pyinputplus\n"
   ]
  },
  {
   "cell_type": "markdown",
   "id": "112bdb65-b3e1-4f73-bc6c-2373d623214e",
   "metadata": {},
   "source": [
    "2. Why is PyInputPlus commonly imported with import pyinputplus as pypi?"
   ]
  },
  {
   "cell_type": "markdown",
   "id": "1b025abe-e1a0-4206-849a-0b21c8724722",
   "metadata": {},
   "source": [
    "Ans .You can import the module with import pyinputplus as pyip so that you can enter a shorter name when calling the module's functions."
   ]
  },
  {
   "cell_type": "markdown",
   "id": "b798ba8b-980f-4c47-8dd3-dc9e147b1935",
   "metadata": {},
   "source": [
    "pypi is alias of PyInputPlus"
   ]
  },
  {
   "cell_type": "markdown",
   "id": "f0e7e79f-746b-45d2-990b-c303ed7ec95d",
   "metadata": {},
   "source": [
    "3. How do you distinguish between inputInt() and inputFloat()?"
   ]
  },
  {
   "cell_type": "markdown",
   "id": "d63516da-7443-4cf9-a215-aa7b6f16b69a",
   "metadata": {},
   "source": [
    "inputInt() takes the integer value and return the integer "
   ]
  },
  {
   "cell_type": "markdown",
   "id": "8fb1fd4b-6b09-4718-94e0-c9ce9adf0525",
   "metadata": {},
   "source": [
    "inputFloat() takes the FLoat/Integer value and return the float value "
   ]
  },
  {
   "cell_type": "code",
   "execution_count": 5,
   "id": "94f94006-3cdb-48ee-b712-f919eb92f713",
   "metadata": {},
   "outputs": [
    {
     "name": "stdin",
     "output_type": "stream",
     "text": [
      " 4.3\n"
     ]
    },
    {
     "name": "stdout",
     "output_type": "stream",
     "text": [
      "'4.3' is not an integer.\n"
     ]
    },
    {
     "name": "stdin",
     "output_type": "stream",
     "text": [
      " 6\n",
      " 7\n"
     ]
    },
    {
     "data": {
      "text/plain": [
       "7.0"
      ]
     },
     "execution_count": 5,
     "metadata": {},
     "output_type": "execute_result"
    }
   ],
   "source": [
    "import pyinputplus as pyip\n",
    "pyip.inputInt()\n",
    "pyip.inputFloat()"
   ]
  },
  {
   "cell_type": "markdown",
   "id": "519eb028-b471-4d47-8a36-de769b10b57a",
   "metadata": {},
   "source": [
    "4. Using PyInputPlus, how do you ensure that the user enters a whole number between 0 and 99?"
   ]
  },
  {
   "cell_type": "code",
   "execution_count": 7,
   "id": "49bebf40-0185-418f-bd26-1556d8aa6b47",
   "metadata": {},
   "outputs": [
    {
     "name": "stdin",
     "output_type": "stream",
     "text": [
      " 587\n"
     ]
    },
    {
     "name": "stdout",
     "output_type": "stream",
     "text": [
      "Number must be at maximum 99.\n"
     ]
    },
    {
     "name": "stdin",
     "output_type": "stream",
     "text": [
      " 45\n"
     ]
    },
    {
     "data": {
      "text/plain": [
       "45"
      ]
     },
     "execution_count": 7,
     "metadata": {},
     "output_type": "execute_result"
    }
   ],
   "source": [
    "pyip.inputInt(min=0,max=99)"
   ]
  },
  {
   "cell_type": "markdown",
   "id": "f4950a6c-ee76-42f1-9cf9-305205af2a0e",
   "metadata": {},
   "source": [
    "5. What is transferred to the keyword arguments allowRegexes and blockRegexes?"
   ]
  },
  {
   "cell_type": "markdown",
   "id": "04e8bda6-80f1-425a-9f4f-255718d2f423",
   "metadata": {},
   "source": [
    "ans .keyword arguments take a list of regular expression strings to determine what the PyInputPlus function will accept or reject as valid input.\n"
   ]
  },
  {
   "cell_type": "code",
   "execution_count": 11,
   "id": "2289ec9a-3673-460e-95f5-6be2ca4b0cbd",
   "metadata": {},
   "outputs": [
    {
     "name": "stdin",
     "output_type": "stream",
     "text": [
      " X\n"
     ]
    }
   ],
   "source": [
    "response = pyip.inputNum(allowRegexes=[r'(I|V|X|L|C|D|M)+', r'zero']) # it allowes roman letters as numbers too\n"
   ]
  },
  {
   "cell_type": "code",
   "execution_count": 13,
   "id": "a98ee8f3-176d-4e3e-880a-8b58a81b5b05",
   "metadata": {},
   "outputs": [
    {
     "name": "stdin",
     "output_type": "stream",
     "text": [
      " 1\n"
     ]
    },
    {
     "name": "stdout",
     "output_type": "stream",
     "text": [
      "This response is invalid.\n"
     ]
    },
    {
     "name": "stdin",
     "output_type": "stream",
     "text": [
      " 5\n"
     ]
    },
    {
     "name": "stdout",
     "output_type": "stream",
     "text": [
      "This response is invalid.\n"
     ]
    },
    {
     "name": "stdin",
     "output_type": "stream",
     "text": [
      " 5\n"
     ]
    },
    {
     "name": "stdout",
     "output_type": "stream",
     "text": [
      "This response is invalid.\n"
     ]
    },
    {
     "name": "stdin",
     "output_type": "stream",
     "text": [
      " 8\n"
     ]
    }
   ],
   "source": [
    "response = pyip.inputNum(blockRegexes=[r'[013579]$'])# blocks the odd numbers"
   ]
  },
  {
   "cell_type": "markdown",
   "id": "a3717740-7260-4081-ad8d-e2ade4fb2a51",
   "metadata": {},
   "source": [
    "6. If a blank input is entered three times, what does inputStr(limit=3) do?"
   ]
  },
  {
   "cell_type": "markdown",
   "id": "5e6e1b96-8c13-48e4-95fa-10663a82768a",
   "metadata": {},
   "source": [
    "Ans.It will throw RetryLimitException exception."
   ]
  },
  {
   "cell_type": "code",
   "execution_count": 17,
   "id": "4bd906d3-33d6-42a3-a559-b0badd9e81a6",
   "metadata": {},
   "outputs": [
    {
     "name": "stdin",
     "output_type": "stream",
     "text": [
      " \n"
     ]
    },
    {
     "name": "stdout",
     "output_type": "stream",
     "text": [
      "Blank values are not allowed.\n"
     ]
    },
    {
     "name": "stdin",
     "output_type": "stream",
     "text": [
      " \n"
     ]
    },
    {
     "name": "stdout",
     "output_type": "stream",
     "text": [
      "Blank values are not allowed.\n"
     ]
    },
    {
     "name": "stdin",
     "output_type": "stream",
     "text": [
      " \n"
     ]
    },
    {
     "name": "stdout",
     "output_type": "stream",
     "text": [
      "Blank values are not allowed.\n"
     ]
    },
    {
     "ename": "RetryLimitException",
     "evalue": "",
     "output_type": "error",
     "traceback": [
      "\u001b[0;31m---------------------------------------------------------------------------\u001b[0m",
      "\u001b[0;31mValidationException\u001b[0m                       Traceback (most recent call last)",
      "File \u001b[0;32m/opt/conda/lib/python3.10/site-packages/pyinputplus/__init__.py:167\u001b[0m, in \u001b[0;36m_genericInput\u001b[0;34m(prompt, default, timeout, limit, applyFunc, validationFunc, postValidateApplyFunc, passwordMask)\u001b[0m\n\u001b[1;32m    166\u001b[0m \u001b[38;5;28;01mtry\u001b[39;00m:\n\u001b[0;32m--> 167\u001b[0m     possibleNewUserInput \u001b[38;5;241m=\u001b[39m \u001b[43mvalidationFunc\u001b[49m\u001b[43m(\u001b[49m\n\u001b[1;32m    168\u001b[0m \u001b[43m        \u001b[49m\u001b[43muserInput\u001b[49m\n\u001b[1;32m    169\u001b[0m \u001b[43m    \u001b[49m\u001b[43m)\u001b[49m  \u001b[38;5;66;03m# If validation fails, this function will raise an exception. Returns an updated value to use as user input (e.g. stripped of whitespace, etc.)\u001b[39;00m\n\u001b[1;32m    170\u001b[0m     \u001b[38;5;28;01mif\u001b[39;00m possibleNewUserInput \u001b[38;5;129;01mis\u001b[39;00m \u001b[38;5;129;01mnot\u001b[39;00m \u001b[38;5;28;01mNone\u001b[39;00m:\n",
      "File \u001b[0;32m/opt/conda/lib/python3.10/site-packages/pyinputplus/__init__.py:243\u001b[0m, in \u001b[0;36minputStr.<locals>.<lambda>\u001b[0;34m(value)\u001b[0m\n\u001b[1;32m    241\u001b[0m pysv\u001b[38;5;241m.\u001b[39m_validateGenericParameters(blank, strip, allowRegexes, blockRegexes)\n\u001b[0;32m--> 243\u001b[0m validationFunc \u001b[38;5;241m=\u001b[39m \u001b[38;5;28;01mlambda\u001b[39;00m value: \u001b[43mpysv\u001b[49m\u001b[38;5;241;43m.\u001b[39;49m\u001b[43m_prevalidationCheck\u001b[49m\u001b[43m(\u001b[49m\n\u001b[1;32m    244\u001b[0m \u001b[43m    \u001b[49m\u001b[43mvalue\u001b[49m\u001b[43m,\u001b[49m\u001b[43m \u001b[49m\u001b[43mblank\u001b[49m\u001b[38;5;241;43m=\u001b[39;49m\u001b[43mblank\u001b[49m\u001b[43m,\u001b[49m\u001b[43m \u001b[49m\u001b[43mstrip\u001b[49m\u001b[38;5;241;43m=\u001b[39;49m\u001b[43mstrip\u001b[49m\u001b[43m,\u001b[49m\u001b[43m \u001b[49m\u001b[43mallowRegexes\u001b[49m\u001b[38;5;241;43m=\u001b[39;49m\u001b[43mallowRegexes\u001b[49m\u001b[43m,\u001b[49m\u001b[43m \u001b[49m\u001b[43mblockRegexes\u001b[49m\u001b[38;5;241;43m=\u001b[39;49m\u001b[43mblockRegexes\u001b[49m\u001b[43m,\u001b[49m\u001b[43m \u001b[49m\u001b[43mexcMsg\u001b[49m\u001b[38;5;241;43m=\u001b[39;49m\u001b[38;5;28;43;01mNone\u001b[39;49;00m\u001b[43m,\u001b[49m\n\u001b[1;32m    245\u001b[0m \u001b[43m\u001b[49m\u001b[43m)\u001b[49m[\u001b[38;5;241m1\u001b[39m]\n\u001b[1;32m    247\u001b[0m \u001b[38;5;28;01mreturn\u001b[39;00m _genericInput(\n\u001b[1;32m    248\u001b[0m     prompt\u001b[38;5;241m=\u001b[39mprompt,\n\u001b[1;32m    249\u001b[0m     default\u001b[38;5;241m=\u001b[39mdefault,\n\u001b[0;32m   (...)\u001b[0m\n\u001b[1;32m    254\u001b[0m     validationFunc\u001b[38;5;241m=\u001b[39mvalidationFunc,\n\u001b[1;32m    255\u001b[0m )\n",
      "File \u001b[0;32m/opt/conda/lib/python3.10/site-packages/pysimplevalidate/__init__.py:250\u001b[0m, in \u001b[0;36m_prevalidationCheck\u001b[0;34m(value, blank, strip, allowRegexes, blockRegexes, excMsg)\u001b[0m\n\u001b[1;32m    248\u001b[0m \u001b[38;5;28;01mif\u001b[39;00m \u001b[38;5;129;01mnot\u001b[39;00m blank \u001b[38;5;129;01mand\u001b[39;00m value \u001b[38;5;241m==\u001b[39m \u001b[38;5;124m\"\u001b[39m\u001b[38;5;124m\"\u001b[39m:\n\u001b[1;32m    249\u001b[0m     \u001b[38;5;66;03m# value is blank but blanks aren't allowed.\u001b[39;00m\n\u001b[0;32m--> 250\u001b[0m     \u001b[43m_raiseValidationException\u001b[49m\u001b[43m(\u001b[49m\u001b[43m_\u001b[49m\u001b[43m(\u001b[49m\u001b[38;5;124;43m\"\u001b[39;49m\u001b[38;5;124;43mBlank values are not allowed.\u001b[39;49m\u001b[38;5;124;43m\"\u001b[39;49m\u001b[43m)\u001b[49m\u001b[43m,\u001b[49m\u001b[43m \u001b[49m\u001b[43mexcMsg\u001b[49m\u001b[43m)\u001b[49m\n\u001b[1;32m    251\u001b[0m \u001b[38;5;28;01melif\u001b[39;00m blank \u001b[38;5;129;01mand\u001b[39;00m value \u001b[38;5;241m==\u001b[39m \u001b[38;5;124m\"\u001b[39m\u001b[38;5;124m\"\u001b[39m:\n",
      "File \u001b[0;32m/opt/conda/lib/python3.10/site-packages/pysimplevalidate/__init__.py:222\u001b[0m, in \u001b[0;36m_raiseValidationException\u001b[0;34m(standardExcMsg, customExcMsg)\u001b[0m\n\u001b[1;32m    221\u001b[0m \u001b[38;5;28;01mif\u001b[39;00m customExcMsg \u001b[38;5;129;01mis\u001b[39;00m \u001b[38;5;28;01mNone\u001b[39;00m:\n\u001b[0;32m--> 222\u001b[0m     \u001b[38;5;28;01mraise\u001b[39;00m ValidationException(\u001b[38;5;28mstr\u001b[39m(standardExcMsg))\n\u001b[1;32m    223\u001b[0m \u001b[38;5;28;01melse\u001b[39;00m:\n",
      "\u001b[0;31mValidationException\u001b[0m: Blank values are not allowed.",
      "\nDuring handling of the above exception, another exception occurred:\n",
      "\u001b[0;31mRetryLimitException\u001b[0m                       Traceback (most recent call last)",
      "Cell \u001b[0;32mIn [17], line 2\u001b[0m\n\u001b[1;32m      1\u001b[0m \u001b[38;5;28;01mimport\u001b[39;00m \u001b[38;5;21;01mpyinputplus\u001b[39;00m \u001b[38;5;28;01mas\u001b[39;00m \u001b[38;5;21;01mpyip\u001b[39;00m\n\u001b[0;32m----> 2\u001b[0m response\u001b[38;5;241m=\u001b[39m\u001b[43mpyip\u001b[49m\u001b[38;5;241;43m.\u001b[39;49m\u001b[43minputStr\u001b[49m\u001b[43m(\u001b[49m\u001b[43mlimit\u001b[49m\u001b[38;5;241;43m=\u001b[39;49m\u001b[38;5;241;43m3\u001b[39;49m\u001b[43m)\u001b[49m\n",
      "File \u001b[0;32m/opt/conda/lib/python3.10/site-packages/pyinputplus/__init__.py:247\u001b[0m, in \u001b[0;36minputStr\u001b[0;34m(prompt, default, blank, timeout, limit, strip, allowRegexes, blockRegexes, applyFunc, postValidateApplyFunc)\u001b[0m\n\u001b[1;32m    241\u001b[0m pysv\u001b[38;5;241m.\u001b[39m_validateGenericParameters(blank, strip, allowRegexes, blockRegexes)\n\u001b[1;32m    243\u001b[0m validationFunc \u001b[38;5;241m=\u001b[39m \u001b[38;5;28;01mlambda\u001b[39;00m value: pysv\u001b[38;5;241m.\u001b[39m_prevalidationCheck(\n\u001b[1;32m    244\u001b[0m     value, blank\u001b[38;5;241m=\u001b[39mblank, strip\u001b[38;5;241m=\u001b[39mstrip, allowRegexes\u001b[38;5;241m=\u001b[39mallowRegexes, blockRegexes\u001b[38;5;241m=\u001b[39mblockRegexes, excMsg\u001b[38;5;241m=\u001b[39m\u001b[38;5;28;01mNone\u001b[39;00m,\n\u001b[1;32m    245\u001b[0m )[\u001b[38;5;241m1\u001b[39m]\n\u001b[0;32m--> 247\u001b[0m \u001b[38;5;28;01mreturn\u001b[39;00m \u001b[43m_genericInput\u001b[49m\u001b[43m(\u001b[49m\n\u001b[1;32m    248\u001b[0m \u001b[43m    \u001b[49m\u001b[43mprompt\u001b[49m\u001b[38;5;241;43m=\u001b[39;49m\u001b[43mprompt\u001b[49m\u001b[43m,\u001b[49m\n\u001b[1;32m    249\u001b[0m \u001b[43m    \u001b[49m\u001b[43mdefault\u001b[49m\u001b[38;5;241;43m=\u001b[39;49m\u001b[43mdefault\u001b[49m\u001b[43m,\u001b[49m\n\u001b[1;32m    250\u001b[0m \u001b[43m    \u001b[49m\u001b[43mtimeout\u001b[49m\u001b[38;5;241;43m=\u001b[39;49m\u001b[43mtimeout\u001b[49m\u001b[43m,\u001b[49m\n\u001b[1;32m    251\u001b[0m \u001b[43m    \u001b[49m\u001b[43mlimit\u001b[49m\u001b[38;5;241;43m=\u001b[39;49m\u001b[43mlimit\u001b[49m\u001b[43m,\u001b[49m\n\u001b[1;32m    252\u001b[0m \u001b[43m    \u001b[49m\u001b[43mapplyFunc\u001b[49m\u001b[38;5;241;43m=\u001b[39;49m\u001b[43mapplyFunc\u001b[49m\u001b[43m,\u001b[49m\n\u001b[1;32m    253\u001b[0m \u001b[43m    \u001b[49m\u001b[43mpostValidateApplyFunc\u001b[49m\u001b[38;5;241;43m=\u001b[39;49m\u001b[43mpostValidateApplyFunc\u001b[49m\u001b[43m,\u001b[49m\n\u001b[1;32m    254\u001b[0m \u001b[43m    \u001b[49m\u001b[43mvalidationFunc\u001b[49m\u001b[38;5;241;43m=\u001b[39;49m\u001b[43mvalidationFunc\u001b[49m\u001b[43m,\u001b[49m\n\u001b[1;32m    255\u001b[0m \u001b[43m\u001b[49m\u001b[43m)\u001b[49m\n",
      "File \u001b[0;32m/opt/conda/lib/python3.10/site-packages/pyinputplus/__init__.py:188\u001b[0m, in \u001b[0;36m_genericInput\u001b[0;34m(prompt, default, timeout, limit, applyFunc, validationFunc, postValidateApplyFunc, passwordMask)\u001b[0m\n\u001b[1;32m    185\u001b[0m         \u001b[38;5;28;01mreturn\u001b[39;00m default\n\u001b[1;32m    186\u001b[0m     \u001b[38;5;28;01melse\u001b[39;00m:\n\u001b[1;32m    187\u001b[0m         \u001b[38;5;66;03m# If there is no default, then raise the timeout/limit exception.\u001b[39;00m\n\u001b[0;32m--> 188\u001b[0m         \u001b[38;5;28;01mraise\u001b[39;00m limitOrTimeoutException\n\u001b[1;32m    189\u001b[0m \u001b[38;5;28;01melse\u001b[39;00m:\n\u001b[1;32m    190\u001b[0m     \u001b[38;5;66;03m# If there was no timeout/limit exceeded, let the user enter input again.\u001b[39;00m\n\u001b[1;32m    191\u001b[0m     \u001b[38;5;28;01mcontinue\u001b[39;00m\n",
      "\u001b[0;31mRetryLimitException\u001b[0m: "
     ]
    }
   ],
   "source": [
    "import pyinputplus as pyip\n",
    "response=pyip.inputStr(limit=3)"
   ]
  },
  {
   "cell_type": "markdown",
   "id": "f8aad9d0-003b-42af-a43e-c90b72b06fce",
   "metadata": {},
   "source": [
    "\n",
    "7. If blank input is entered three times, what does inputStr(limit=3, default='hello') do?\n"
   ]
  },
  {
   "cell_type": "markdown",
   "id": "8783d8c8-1b7d-4e5a-a358-b04f16633163",
   "metadata": {},
   "source": [
    "ans .When we use limit keyword arguments and also pass a default keyword argument, the function returns the default value instead of raising an exception\n"
   ]
  },
  {
   "cell_type": "code",
   "execution_count": 22,
   "id": "e644479d-bc3d-421a-b8a1-8e8dc2efc2ad",
   "metadata": {},
   "outputs": [
    {
     "name": "stdin",
     "output_type": "stream",
     "text": [
      " \n"
     ]
    },
    {
     "name": "stdout",
     "output_type": "stream",
     "text": [
      "Blank values are not allowed.\n"
     ]
    },
    {
     "name": "stdin",
     "output_type": "stream",
     "text": [
      " \n"
     ]
    },
    {
     "name": "stdout",
     "output_type": "stream",
     "text": [
      "Blank values are not allowed.\n"
     ]
    },
    {
     "name": "stdin",
     "output_type": "stream",
     "text": [
      " \n"
     ]
    },
    {
     "name": "stdout",
     "output_type": "stream",
     "text": [
      "Blank values are not allowed.\n"
     ]
    },
    {
     "data": {
      "text/plain": [
       "'hello'"
      ]
     },
     "execution_count": 22,
     "metadata": {},
     "output_type": "execute_result"
    }
   ],
   "source": [
    "response=pyip.inputStr(limit=3,default='hello')\n",
    "response"
   ]
  },
  {
   "cell_type": "code",
   "execution_count": null,
   "id": "a487ec85-e6a1-434a-96d9-3de083826f49",
   "metadata": {},
   "outputs": [],
   "source": []
  }
 ],
 "metadata": {
  "kernelspec": {
   "display_name": "Python 3 (ipykernel)",
   "language": "python",
   "name": "python3"
  },
  "language_info": {
   "codemirror_mode": {
    "name": "ipython",
    "version": 3
   },
   "file_extension": ".py",
   "mimetype": "text/x-python",
   "name": "python",
   "nbconvert_exporter": "python",
   "pygments_lexer": "ipython3",
   "version": "3.10.6"
  }
 },
 "nbformat": 4,
 "nbformat_minor": 5
}
